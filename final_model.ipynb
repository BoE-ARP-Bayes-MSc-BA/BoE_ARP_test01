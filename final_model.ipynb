{
 "cells": [
  {
   "cell_type": "code",
   "execution_count": 3,
   "metadata": {},
   "outputs": [],
   "source": [
    "import pandas as pd\n",
    "import numpy as np\n",
    "# read the csv file\n",
    "df = pd.read_csv('df_sample.csv')"
   ]
  },
  {
   "cell_type": "code",
   "execution_count": 4,
   "metadata": {},
   "outputs": [
    {
     "data": {
      "text/html": [
       "<div>\n",
       "<style scoped>\n",
       "    .dataframe tbody tr th:only-of-type {\n",
       "        vertical-align: middle;\n",
       "    }\n",
       "\n",
       "    .dataframe tbody tr th {\n",
       "        vertical-align: top;\n",
       "    }\n",
       "\n",
       "    .dataframe thead th {\n",
       "        text-align: right;\n",
       "    }\n",
       "</style>\n",
       "<table border=\"1\" class=\"dataframe\">\n",
       "  <thead>\n",
       "    <tr style=\"text-align: right;\">\n",
       "      <th></th>\n",
       "      <th>Unnamed: 0</th>\n",
       "      <th>meeting_text</th>\n",
       "      <th>file_name</th>\n",
       "      <th>date</th>\n",
       "    </tr>\n",
       "  </thead>\n",
       "  <tbody>\n",
       "    <tr>\n",
       "      <th>0</th>\n",
       "      <td>749</td>\n",
       "      <td>Ladies and gentlemen. Good afternoon. Welcome,...</td>\n",
       "      <td>20190424_AXA_SA-_Shareholder_Mtg_Call_2019-4-2...</td>\n",
       "      <td>2019-04-24</td>\n",
       "    </tr>\n",
       "    <tr>\n",
       "      <th>1</th>\n",
       "      <td>1492</td>\n",
       "      <td>Greetings. Welcome to the Markel Corporation F...</td>\n",
       "      <td>20120510_Markel_Corp-_Earnings_Call_2012-5-10_...</td>\n",
       "      <td>2012-05-10</td>\n",
       "    </tr>\n",
       "    <tr>\n",
       "      <th>2</th>\n",
       "      <td>446</td>\n",
       "      <td>Good morning or good afternoon. Welcome to Swi...</td>\n",
       "      <td>20190731_Swiss_Re_AG-_Earnings_Call_2019-7-31_...</td>\n",
       "      <td>2019-07-31</td>\n",
       "    </tr>\n",
       "    <tr>\n",
       "      <th>3</th>\n",
       "      <td>1438</td>\n",
       "      <td>Market Cap: 69,035.17. Current PX: 148.33. YTD...</td>\n",
       "      <td>20170726_Chubb_Ltd-_Earnings_Call_2017-7-26_FS...</td>\n",
       "      <td>2017-07-26</td>\n",
       "    </tr>\n",
       "    <tr>\n",
       "      <th>4</th>\n",
       "      <td>337</td>\n",
       "      <td>Yasuyoshi Karasawa. Good afternoon, ladies and...</td>\n",
       "      <td>20190524_MS-AD_INSURANCE-_Guidance_Call_2019-5...</td>\n",
       "      <td>2019-05-24</td>\n",
       "    </tr>\n",
       "    <tr>\n",
       "      <th>...</th>\n",
       "      <td>...</td>\n",
       "      <td>...</td>\n",
       "      <td>...</td>\n",
       "      <td>...</td>\n",
       "    </tr>\n",
       "    <tr>\n",
       "      <th>913</th>\n",
       "      <td>423</td>\n",
       "      <td>Ladies and gentlemen, good morning or good aft...</td>\n",
       "      <td>20160429_Swiss_Re_AG-_Earnings_Call_2016-4-29_...</td>\n",
       "      <td>2016-04-29</td>\n",
       "    </tr>\n",
       "    <tr>\n",
       "      <th>914</th>\n",
       "      <td>96</td>\n",
       "      <td>Welcome, everyone, to our presentation today. ...</td>\n",
       "      <td>20200526_Aviva_PLC-_Shareholder_Mtg_Call_2020-...</td>\n",
       "      <td>2020-05-26</td>\n",
       "    </tr>\n",
       "    <tr>\n",
       "      <th>915</th>\n",
       "      <td>40</td>\n",
       "      <td>Operator. (Operator Instructions) Good day, la...</td>\n",
       "      <td>20191204_Sanlam_Ltd-_Sales_Results_Call_2019-1...</td>\n",
       "      <td>2019-12-04</td>\n",
       "    </tr>\n",
       "    <tr>\n",
       "      <th>916</th>\n",
       "      <td>605</td>\n",
       "      <td>Greetings, and welcome to the Lancashire Holdi...</td>\n",
       "      <td>20150729_LANCASHIRE_HOLDI-_Earnings_Call_2015-...</td>\n",
       "      <td>2015-07-29</td>\n",
       "    </tr>\n",
       "    <tr>\n",
       "      <th>917</th>\n",
       "      <td>1115</td>\n",
       "      <td>Operator. Good day, and welcome to the Gjensid...</td>\n",
       "      <td>20181025_GJENSIDIGE_FORSI-_Earnings_Call_2018-...</td>\n",
       "      <td>2018-10-25</td>\n",
       "    </tr>\n",
       "  </tbody>\n",
       "</table>\n",
       "<p>918 rows × 4 columns</p>\n",
       "</div>"
      ],
      "text/plain": [
       "     Unnamed: 0                                       meeting_text  \\\n",
       "0           749  Ladies and gentlemen. Good afternoon. Welcome,...   \n",
       "1          1492  Greetings. Welcome to the Markel Corporation F...   \n",
       "2           446  Good morning or good afternoon. Welcome to Swi...   \n",
       "3          1438  Market Cap: 69,035.17. Current PX: 148.33. YTD...   \n",
       "4           337  Yasuyoshi Karasawa. Good afternoon, ladies and...   \n",
       "..          ...                                                ...   \n",
       "913         423  Ladies and gentlemen, good morning or good aft...   \n",
       "914          96  Welcome, everyone, to our presentation today. ...   \n",
       "915          40  Operator. (Operator Instructions) Good day, la...   \n",
       "916         605  Greetings, and welcome to the Lancashire Holdi...   \n",
       "917        1115  Operator. Good day, and welcome to the Gjensid...   \n",
       "\n",
       "                                             file_name        date  \n",
       "0    20190424_AXA_SA-_Shareholder_Mtg_Call_2019-4-2...  2019-04-24  \n",
       "1    20120510_Markel_Corp-_Earnings_Call_2012-5-10_...  2012-05-10  \n",
       "2    20190731_Swiss_Re_AG-_Earnings_Call_2019-7-31_...  2019-07-31  \n",
       "3    20170726_Chubb_Ltd-_Earnings_Call_2017-7-26_FS...  2017-07-26  \n",
       "4    20190524_MS-AD_INSURANCE-_Guidance_Call_2019-5...  2019-05-24  \n",
       "..                                                 ...         ...  \n",
       "913  20160429_Swiss_Re_AG-_Earnings_Call_2016-4-29_...  2016-04-29  \n",
       "914  20200526_Aviva_PLC-_Shareholder_Mtg_Call_2020-...  2020-05-26  \n",
       "915  20191204_Sanlam_Ltd-_Sales_Results_Call_2019-1...  2019-12-04  \n",
       "916  20150729_LANCASHIRE_HOLDI-_Earnings_Call_2015-...  2015-07-29  \n",
       "917  20181025_GJENSIDIGE_FORSI-_Earnings_Call_2018-...  2018-10-25  \n",
       "\n",
       "[918 rows x 4 columns]"
      ]
     },
     "execution_count": 4,
     "metadata": {},
     "output_type": "execute_result"
    }
   ],
   "source": [
    "df"
   ]
  },
  {
   "cell_type": "code",
   "execution_count": 5,
   "metadata": {},
   "outputs": [],
   "source": [
    "import os\n",
    "# import torch\n",
    "# from tqdm import tqdm\n",
    "# import torch.nn as nn\n",
    "# import torch.nn.functional as F\n",
    "# from torch.utils.data import DataLoader,Dataset # 可以繼承 類似map and unmap\n",
    "import numpy as np\n",
    "import pandas as pd\n",
    "from collections import defaultdict\n",
    "import re\n",
    "import random\n",
    "import matplotlib.pyplot as plt\n",
    "from sklearn.model_selection import train_test_split, StratifiedKFold\n",
    "from sklearn.metrics import roc_auc_score, confusion_matrix, accuracy_score, f1_score\n",
    "from sklearn.utils.class_weight import compute_class_weight\n",
    "from transformers import BertTokenizer,BertModel,get_linear_schedule_with_warmup \n",
    "import seaborn as sns\n",
    "# import nlpaug.augmenter.sentence as nas\n",
    "# import nlpaug.augmenter.char as nac\n",
    "# import nlpaug.augmenter.word as naw"
   ]
  },
  {
   "cell_type": "code",
   "execution_count": 6,
   "metadata": {},
   "outputs": [],
   "source": [
    "def preprocess(text):\n",
    "  pattern = re.compile(r'\\s+')\n",
    "  text=text.replace('\\u202f',' ').replace('xa0',' ')\n",
    "  text=re.sub(r\"(@\\[A-Za-z0-9]+)|([^0-9A-Za-z \\t])|(\\w+:\\/\\/\\S+)|^rt|http.+?\", \"\", text)\n",
    "  text=re.sub(r\"\\\\u00b4\",r'',text)\n",
    "  text=re.sub(pattern, ' ', text)\n",
    "  text = text.replace('?', ' ? ').replace(')', ') ').strip()\n",
    "  return text\n",
    "\n",
    "df['meeting_text']=df['meeting_text'].apply(preprocess)"
   ]
  },
  {
   "cell_type": "code",
   "execution_count": 9,
   "metadata": {},
   "outputs": [],
   "source": [
    "df\n",
    "# save to csv\n",
    "df.to_csv('df_sample_preprocessed.csv',index=False)"
   ]
  },
  {
   "cell_type": "code",
   "execution_count": null,
   "metadata": {},
   "outputs": [],
   "source": []
  }
 ],
 "metadata": {
  "kernelspec": {
   "display_name": "Python 3.9.7 ('base')",
   "language": "python",
   "name": "python3"
  },
  "language_info": {
   "codemirror_mode": {
    "name": "ipython",
    "version": 3
   },
   "file_extension": ".py",
   "mimetype": "text/x-python",
   "name": "python",
   "nbconvert_exporter": "python",
   "pygments_lexer": "ipython3",
   "version": "3.9.7"
  },
  "toc": {
   "base_numbering": 1,
   "nav_menu": {},
   "number_sections": true,
   "sideBar": true,
   "skip_h1_title": false,
   "title_cell": "Table of Contents",
   "title_sidebar": "Contents",
   "toc_cell": false,
   "toc_position": {},
   "toc_section_display": true,
   "toc_window_display": false
  },
  "varInspector": {
   "cols": {
    "lenName": 16,
    "lenType": 16,
    "lenVar": 40
   },
   "kernels_config": {
    "python": {
     "delete_cmd_postfix": "",
     "delete_cmd_prefix": "del ",
     "library": "var_list.py",
     "varRefreshCmd": "print(var_dic_list())"
    },
    "r": {
     "delete_cmd_postfix": ") ",
     "delete_cmd_prefix": "rm(",
     "library": "var_list.r",
     "varRefreshCmd": "cat(var_dic_list()) "
    }
   },
   "types_to_exclude": [
    "module",
    "function",
    "builtin_function_or_method",
    "instance",
    "_Feature"
   ],
   "window_display": false
  },
  "vscode": {
   "interpreter": {
    "hash": "40d3a090f54c6569ab1632332b64b2c03c39dcf918b08424e98f38b5ae0af88f"
   }
  }
 },
 "nbformat": 4,
 "nbformat_minor": 2
}
